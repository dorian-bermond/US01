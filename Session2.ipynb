{
 "cells": [
  {
   "cell_type": "code",
   "execution_count": 38,
   "metadata": {},
   "outputs": [],
   "source": [
    "import pandas as pd\n",
    "import requests as req"
   ]
  },
  {
   "cell_type": "code",
   "execution_count": 39,
   "metadata": {},
   "outputs": [],
   "source": [
    "df = pd.read_excel('/home/triviiz/Documents/Cours/US01/2019-US01-Data-Science-master/Data-sheet-STUDENTS.xlsx', header = 2, index_col = 0)"
   ]
  },
  {
   "cell_type": "code",
   "execution_count": 40,
   "metadata": {},
   "outputs": [
    {
     "name": "stdout",
     "output_type": "stream",
     "text": [
      "Afghanistan\n"
     ]
    }
   ],
   "source": [
    "for index, name in df[\"Country (according to CN Gov):\"].items() :\n",
    "    print(name)\n",
    "    #print(df.loc[index])\n",
    "    break"
   ]
  },
  {
   "cell_type": "code",
   "execution_count": 41,
   "metadata": {},
   "outputs": [
    {
     "data": {
      "text/plain": [
       "'\\nfor index, name in df[\"Country (according to CN Gov):\"].items() :\\n    r = req.get(\"https://restcountries.eu/rest/v2/name/\" + name, auth = (\\'user\\', \\'pass\\'))\\n    if r.status_code == 200 :\\n        alpha3 = r.json()[0][\"alpha3Code\"]\\n        print(name + \" -> \" + alpha3)\\n    else :\\n        print (name + \" -> Error \" + str(r.status_code) + \" : \" + r.json()[\"message\"])\\n'"
      ]
     },
     "execution_count": 41,
     "metadata": {},
     "output_type": "execute_result"
    }
   ],
   "source": [
    "\"\"\"\n",
    "for index, name in df[\"Country (according to CN Gov):\"].items() :\n",
    "    r = req.get(\"https://restcountries.eu/rest/v2/name/\" + name, auth = ('user', 'pass'))\n",
    "    if r.status_code == 200 :\n",
    "        alpha3 = r.json()[0][\"alpha3Code\"]\n",
    "        print(name + \" -> \" + alpha3)\n",
    "    else :\n",
    "        print (name + \" -> Error \" + str(r.status_code) + \" : \" + r.json()[\"message\"])\n",
    "\"\"\""
   ]
  },
  {
   "cell_type": "code",
   "execution_count": 42,
   "metadata": {},
   "outputs": [],
   "source": [
    "isoCodes = {}"
   ]
  },
  {
   "cell_type": "code",
   "execution_count": 69,
   "metadata": {},
   "outputs": [],
   "source": [
    "def getIsocodes (df) :\n",
    "    thingsGotten = 0\n",
    "\n",
    "    for index, name in df[\"Country (according to CN Gov):\"].items() :\n",
    "        #print(\"Trying \" + name)\n",
    "        if name in isoCodes :\n",
    "            #print (name + \" already in Table > Continue\")\n",
    "            continue\n",
    "\n",
    "        thingsGotten += 1\n",
    "\n",
    "        requestedName = name\n",
    "        if \" (not bri)\" in requestedName.lower() :\n",
    "            requestedName = requestedName[:-10]\n",
    "            #print(\"New name = \" + name)\n",
    "\n",
    "        if requestedName == \"Thailiand\" :\n",
    "            requestedName = \"Thailand\"\n",
    "\n",
    "        if requestedName == \"The United Arab Emirates\" :\n",
    "            requestedName = \"United Arab Emirates\"\n",
    "\n",
    "        r = req.get(\"https://restcountries.eu/rest/v2/name/\" + requestedName, auth = ('user', 'pass'))\n",
    "        if r.status_code == 200 :\n",
    "            alpha3 = r.json()[0][\"alpha3Code\"]\n",
    "            print(name + \" -> \" + alpha3)\n",
    "            isoCodes[name] = alpha3\n",
    "        else :\n",
    "            print (name + \" -> Error \" + str(r.status_code) + \" : \" + r.json()[\"message\"])\n",
    "\n",
    "    if thingsGotten == 0 :\n",
    "        print(\"Table already complete\")\n",
    "    else :\n",
    "        print(str(thingsGotten) + \" things added to table\")"
   ]
  },
  {
   "cell_type": "code",
   "execution_count": 62,
   "metadata": {},
   "outputs": [
    {
     "name": "stdout",
     "output_type": "stream",
     "text": [
      "Table already complete\n"
     ]
    }
   ],
   "source": [
    "getIsocodes(df)"
   ]
  },
  {
   "cell_type": "code",
   "execution_count": 65,
   "metadata": {},
   "outputs": [],
   "source": [
    "df[\"isocode\"] = df[\"Country (according to CN Gov):\"].apply(lambda x : isoCodes[x])"
   ]
  },
  {
   "cell_type": "code",
   "execution_count": 68,
   "metadata": {},
   "outputs": [
    {
     "data": {
      "text/html": [
       "<div>\n",
       "<style scoped>\n",
       "    .dataframe tbody tr th:only-of-type {\n",
       "        vertical-align: middle;\n",
       "    }\n",
       "\n",
       "    .dataframe tbody tr th {\n",
       "        vertical-align: top;\n",
       "    }\n",
       "\n",
       "    .dataframe thead th {\n",
       "        text-align: right;\n",
       "    }\n",
       "</style>\n",
       "<table border=\"1\" class=\"dataframe\">\n",
       "  <thead>\n",
       "    <tr style=\"text-align: right;\">\n",
       "      <th></th>\n",
       "      <th>isocode</th>\n",
       "      <th>Country (according to CN Gov):</th>\n",
       "    </tr>\n",
       "  </thead>\n",
       "  <tbody>\n",
       "    <tr>\n",
       "      <td>1</td>\n",
       "      <td>AFG</td>\n",
       "      <td>Afghanistan</td>\n",
       "    </tr>\n",
       "    <tr>\n",
       "      <td>2</td>\n",
       "      <td>ALB</td>\n",
       "      <td>Albania</td>\n",
       "    </tr>\n",
       "    <tr>\n",
       "      <td>3</td>\n",
       "      <td>ARM</td>\n",
       "      <td>Armenia</td>\n",
       "    </tr>\n",
       "    <tr>\n",
       "      <td>4</td>\n",
       "      <td>AZE</td>\n",
       "      <td>Azerbaijan</td>\n",
       "    </tr>\n",
       "    <tr>\n",
       "      <td>5</td>\n",
       "      <td>BHR</td>\n",
       "      <td>Bahrain</td>\n",
       "    </tr>\n",
       "    <tr>\n",
       "      <td>...</td>\n",
       "      <td>...</td>\n",
       "      <td>...</td>\n",
       "    </tr>\n",
       "    <tr>\n",
       "      <td>64</td>\n",
       "      <td>USA</td>\n",
       "      <td>United States of America (Not BRI)</td>\n",
       "    </tr>\n",
       "    <tr>\n",
       "      <td>65</td>\n",
       "      <td>UKR</td>\n",
       "      <td>Ukraine</td>\n",
       "    </tr>\n",
       "    <tr>\n",
       "      <td>66</td>\n",
       "      <td>UZB</td>\n",
       "      <td>Uzbekistan</td>\n",
       "    </tr>\n",
       "    <tr>\n",
       "      <td>67</td>\n",
       "      <td>VNM</td>\n",
       "      <td>Vietnam</td>\n",
       "    </tr>\n",
       "    <tr>\n",
       "      <td>68</td>\n",
       "      <td>YEM</td>\n",
       "      <td>Yemen</td>\n",
       "    </tr>\n",
       "  </tbody>\n",
       "</table>\n",
       "<p>68 rows × 2 columns</p>\n",
       "</div>"
      ],
      "text/plain": [
       "   isocode      Country (according to CN Gov):\n",
       "1      AFG                         Afghanistan\n",
       "2      ALB                             Albania\n",
       "3      ARM                             Armenia\n",
       "4      AZE                          Azerbaijan\n",
       "5      BHR                             Bahrain\n",
       "..     ...                                 ...\n",
       "64     USA  United States of America (Not BRI)\n",
       "65     UKR                             Ukraine\n",
       "66     UZB                          Uzbekistan\n",
       "67     VNM                             Vietnam\n",
       "68     YEM                               Yemen\n",
       "\n",
       "[68 rows x 2 columns]"
      ]
     },
     "execution_count": 68,
     "metadata": {},
     "output_type": "execute_result"
    }
   ],
   "source": [
    "df[[\"isocode\", \"Country (according to CN Gov):\"]]"
   ]
  },
  {
   "cell_type": "code",
   "execution_count": 70,
   "metadata": {},
   "outputs": [],
   "source": [
    "indicators = {\n",
    "}"
   ]
  },
  {
   "cell_type": "code",
   "execution_count": 78,
   "metadata": {},
   "outputs": [],
   "source": [
    "def getIndicator (df, indicator) :\n",
    "    thingsGotten = 0\n",
    "\n",
    "    for index, (name, isocode) in df[[\"Country (according to CN Gov):\", \"isocode\"]].items() :\n",
    "        #print(\"Trying \" + name)\n",
    "        if name in indicators :\n",
    "            #print (name + \" already in Table > Continue\")\n",
    "            continue\n",
    "\n",
    "        thingsGotten += 1\n",
    "\n",
    "        url = \"http://api.worldbank.org/v2/country/\" + isocode + \"/indicator/\" + indicator\n",
    "        \n",
    "        r = req.get(url, auth = ('user', 'pass'))\n",
    "        if r.status_code == 200 :\n",
    "            for query in r.json()[1] :\n",
    "                if query[\"value\"] != null :\n",
    "                    lastData = [query[\"date\"], query[\"value\"]]\n",
    "            print(name + \" -> \" + indicator[1] + \"(\" + indicator[0] + \")\")\n",
    "            indicators[name] = lastData\n",
    "        else :\n",
    "            print (name + \" -> Error \" + str(r.status_code) + \" : \" + r.json()[\"message\"])\n",
    "        break\n",
    "\n",
    "    if thingsGotten == 0 :\n",
    "        print(\"Table already complete\")\n",
    "    else :\n",
    "        print(str(thingsGotten) + \" things added to table\")"
   ]
  },
  {
   "cell_type": "code",
   "execution_count": 79,
   "metadata": {},
   "outputs": [
    {
     "ename": "ValueError",
     "evalue": "too many values to unpack (expected 2)",
     "output_type": "error",
     "traceback": [
      "\u001b[0;31m---------------------------------------------------------------------------\u001b[0m",
      "\u001b[0;31mValueError\u001b[0m                                Traceback (most recent call last)",
      "\u001b[0;32m<ipython-input-79-2cd4fcd2671f>\u001b[0m in \u001b[0;36m<module>\u001b[0;34m\u001b[0m\n\u001b[0;32m----> 1\u001b[0;31m \u001b[0mgetIndicator\u001b[0m\u001b[0;34m(\u001b[0m\u001b[0mdf\u001b[0m\u001b[0;34m,\u001b[0m \u001b[0;34m\"GC.TAX.IMPT.ZS\"\u001b[0m\u001b[0;34m)\u001b[0m\u001b[0;34m\u001b[0m\u001b[0;34m\u001b[0m\u001b[0m\n\u001b[0m",
      "\u001b[0;32m<ipython-input-78-0a665d8a9e3d>\u001b[0m in \u001b[0;36mgetIndicator\u001b[0;34m(df, indicator)\u001b[0m\n\u001b[1;32m      2\u001b[0m     \u001b[0mthingsGotten\u001b[0m \u001b[0;34m=\u001b[0m \u001b[0;36m0\u001b[0m\u001b[0;34m\u001b[0m\u001b[0;34m\u001b[0m\u001b[0m\n\u001b[1;32m      3\u001b[0m \u001b[0;34m\u001b[0m\u001b[0m\n\u001b[0;32m----> 4\u001b[0;31m     \u001b[0;32mfor\u001b[0m \u001b[0mindex\u001b[0m\u001b[0;34m,\u001b[0m \u001b[0;34m(\u001b[0m\u001b[0mname\u001b[0m\u001b[0;34m,\u001b[0m \u001b[0misocode\u001b[0m\u001b[0;34m)\u001b[0m \u001b[0;32min\u001b[0m \u001b[0mdf\u001b[0m\u001b[0;34m[\u001b[0m\u001b[0;34m[\u001b[0m\u001b[0;34m\"Country (according to CN Gov):\"\u001b[0m\u001b[0;34m,\u001b[0m \u001b[0;34m\"isocode\"\u001b[0m\u001b[0;34m]\u001b[0m\u001b[0;34m]\u001b[0m\u001b[0;34m.\u001b[0m\u001b[0mitems\u001b[0m\u001b[0;34m(\u001b[0m\u001b[0;34m)\u001b[0m \u001b[0;34m:\u001b[0m\u001b[0;34m\u001b[0m\u001b[0;34m\u001b[0m\u001b[0m\n\u001b[0m\u001b[1;32m      5\u001b[0m         \u001b[0;31m#print(\"Trying \" + name)\u001b[0m\u001b[0;34m\u001b[0m\u001b[0;34m\u001b[0m\u001b[0;34m\u001b[0m\u001b[0m\n\u001b[1;32m      6\u001b[0m         \u001b[0;32mif\u001b[0m \u001b[0mname\u001b[0m \u001b[0;32min\u001b[0m \u001b[0mindicators\u001b[0m \u001b[0;34m:\u001b[0m\u001b[0;34m\u001b[0m\u001b[0;34m\u001b[0m\u001b[0m\n",
      "\u001b[0;31mValueError\u001b[0m: too many values to unpack (expected 2)"
     ]
    }
   ],
   "source": [
    "getIndicator(df, \"GC.TAX.IMPT.ZS\")"
   ]
  },
  {
   "cell_type": "code",
   "execution_count": 74,
   "metadata": {},
   "outputs": [
    {
     "data": {
      "text/html": [
       "<div>\n",
       "<style scoped>\n",
       "    .dataframe tbody tr th:only-of-type {\n",
       "        vertical-align: middle;\n",
       "    }\n",
       "\n",
       "    .dataframe tbody tr th {\n",
       "        vertical-align: top;\n",
       "    }\n",
       "\n",
       "    .dataframe thead th {\n",
       "        text-align: right;\n",
       "    }\n",
       "</style>\n",
       "<table border=\"1\" class=\"dataframe\">\n",
       "  <thead>\n",
       "    <tr style=\"text-align: right;\">\n",
       "      <th></th>\n",
       "      <th>Country (according to CN Gov):</th>\n",
       "      <th>isocode</th>\n",
       "    </tr>\n",
       "  </thead>\n",
       "  <tbody>\n",
       "    <tr>\n",
       "      <td>1</td>\n",
       "      <td>Afghanistan</td>\n",
       "      <td>AFG</td>\n",
       "    </tr>\n",
       "    <tr>\n",
       "      <td>2</td>\n",
       "      <td>Albania</td>\n",
       "      <td>ALB</td>\n",
       "    </tr>\n",
       "    <tr>\n",
       "      <td>3</td>\n",
       "      <td>Armenia</td>\n",
       "      <td>ARM</td>\n",
       "    </tr>\n",
       "    <tr>\n",
       "      <td>4</td>\n",
       "      <td>Azerbaijan</td>\n",
       "      <td>AZE</td>\n",
       "    </tr>\n",
       "    <tr>\n",
       "      <td>5</td>\n",
       "      <td>Bahrain</td>\n",
       "      <td>BHR</td>\n",
       "    </tr>\n",
       "    <tr>\n",
       "      <td>...</td>\n",
       "      <td>...</td>\n",
       "      <td>...</td>\n",
       "    </tr>\n",
       "    <tr>\n",
       "      <td>64</td>\n",
       "      <td>United States of America (Not BRI)</td>\n",
       "      <td>USA</td>\n",
       "    </tr>\n",
       "    <tr>\n",
       "      <td>65</td>\n",
       "      <td>Ukraine</td>\n",
       "      <td>UKR</td>\n",
       "    </tr>\n",
       "    <tr>\n",
       "      <td>66</td>\n",
       "      <td>Uzbekistan</td>\n",
       "      <td>UZB</td>\n",
       "    </tr>\n",
       "    <tr>\n",
       "      <td>67</td>\n",
       "      <td>Vietnam</td>\n",
       "      <td>VNM</td>\n",
       "    </tr>\n",
       "    <tr>\n",
       "      <td>68</td>\n",
       "      <td>Yemen</td>\n",
       "      <td>YEM</td>\n",
       "    </tr>\n",
       "  </tbody>\n",
       "</table>\n",
       "<p>68 rows × 2 columns</p>\n",
       "</div>"
      ],
      "text/plain": [
       "        Country (according to CN Gov): isocode\n",
       "1                          Afghanistan     AFG\n",
       "2                              Albania     ALB\n",
       "3                              Armenia     ARM\n",
       "4                           Azerbaijan     AZE\n",
       "5                              Bahrain     BHR\n",
       "..                                 ...     ...\n",
       "64  United States of America (Not BRI)     USA\n",
       "65                             Ukraine     UKR\n",
       "66                          Uzbekistan     UZB\n",
       "67                             Vietnam     VNM\n",
       "68                               Yemen     YEM\n",
       "\n",
       "[68 rows x 2 columns]"
      ]
     },
     "execution_count": 74,
     "metadata": {},
     "output_type": "execute_result"
    }
   ],
   "source": [
    "df[[\"Country (according to CN Gov):\", \"isocode\"]]"
   ]
  },
  {
   "cell_type": "code",
   "execution_count": null,
   "metadata": {},
   "outputs": [],
   "source": []
  }
 ],
 "metadata": {
  "kernelspec": {
   "display_name": "Python 3",
   "language": "python",
   "name": "python3"
  },
  "language_info": {
   "codemirror_mode": {
    "name": "ipython",
    "version": 3
   },
   "file_extension": ".py",
   "mimetype": "text/x-python",
   "name": "python",
   "nbconvert_exporter": "python",
   "pygments_lexer": "ipython3",
   "version": "3.8.0"
  }
 },
 "nbformat": 4,
 "nbformat_minor": 4
}
